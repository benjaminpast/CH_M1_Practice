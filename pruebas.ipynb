{
 "cells": [
  {
   "cell_type": "code",
   "execution_count": 1,
   "metadata": {},
   "outputs": [],
   "source": [
    "import pandas as pd\n",
    "import numpy as np"
   ]
  },
  {
   "cell_type": "code",
   "execution_count": 2,
   "metadata": {},
   "outputs": [],
   "source": [
    "df = pd.read_csv('Fuentes_Consumo_Energia.csv')"
   ]
  },
  {
   "cell_type": "code",
   "execution_count": 7,
   "metadata": {},
   "outputs": [
    {
     "data": {
      "text/html": [
       "<div>\n",
       "<style scoped>\n",
       "    .dataframe tbody tr th:only-of-type {\n",
       "        vertical-align: middle;\n",
       "    }\n",
       "\n",
       "    .dataframe tbody tr th {\n",
       "        vertical-align: top;\n",
       "    }\n",
       "\n",
       "    .dataframe thead th {\n",
       "        text-align: right;\n",
       "    }\n",
       "</style>\n",
       "<table border=\"1\" class=\"dataframe\">\n",
       "  <thead>\n",
       "    <tr style=\"text-align: right;\">\n",
       "      <th></th>\n",
       "      <th>Entity</th>\n",
       "      <th>Code</th>\n",
       "      <th>Year</th>\n",
       "      <th>Coal_Consumption_EJ</th>\n",
       "      <th>Gas_Consumption_EJ</th>\n",
       "      <th>Geo_Biomass_Other_TWh</th>\n",
       "      <th>Hydro_Generation_TWh</th>\n",
       "      <th>Nuclear_Generation_TWh</th>\n",
       "      <th>Solar_Generation_TWh</th>\n",
       "      <th>Wind_Generation_TWh</th>\n",
       "      <th>Oil_Consumption_EJ</th>\n",
       "    </tr>\n",
       "  </thead>\n",
       "  <tbody>\n",
       "    <tr>\n",
       "      <th>0</th>\n",
       "      <td>Africa</td>\n",
       "      <td>NaN</td>\n",
       "      <td>1965</td>\n",
       "      <td>1.164586</td>\n",
       "      <td>0.034358</td>\n",
       "      <td>0.0</td>\n",
       "      <td>13.905635</td>\n",
       "      <td>0.0</td>\n",
       "      <td>0.0</td>\n",
       "      <td>0.0</td>\n",
       "      <td>1.173241</td>\n",
       "    </tr>\n",
       "    <tr>\n",
       "      <th>1</th>\n",
       "      <td>Africa</td>\n",
       "      <td>NaN</td>\n",
       "      <td>1966</td>\n",
       "      <td>1.163240</td>\n",
       "      <td>0.038412</td>\n",
       "      <td>0.0</td>\n",
       "      <td>15.510004</td>\n",
       "      <td>0.0</td>\n",
       "      <td>0.0</td>\n",
       "      <td>0.0</td>\n",
       "      <td>1.284154</td>\n",
       "    </tr>\n",
       "    <tr>\n",
       "      <th>2</th>\n",
       "      <td>Africa</td>\n",
       "      <td>NaN</td>\n",
       "      <td>1967</td>\n",
       "      <td>1.189050</td>\n",
       "      <td>0.037964</td>\n",
       "      <td>0.0</td>\n",
       "      <td>16.190636</td>\n",
       "      <td>0.0</td>\n",
       "      <td>0.0</td>\n",
       "      <td>0.0</td>\n",
       "      <td>1.273799</td>\n",
       "    </tr>\n",
       "    <tr>\n",
       "      <th>3</th>\n",
       "      <td>Africa</td>\n",
       "      <td>NaN</td>\n",
       "      <td>1968</td>\n",
       "      <td>1.236646</td>\n",
       "      <td>0.038480</td>\n",
       "      <td>0.0</td>\n",
       "      <td>18.938341</td>\n",
       "      <td>0.0</td>\n",
       "      <td>0.0</td>\n",
       "      <td>0.0</td>\n",
       "      <td>1.344219</td>\n",
       "    </tr>\n",
       "    <tr>\n",
       "      <th>4</th>\n",
       "      <td>Africa</td>\n",
       "      <td>NaN</td>\n",
       "      <td>1969</td>\n",
       "      <td>1.247915</td>\n",
       "      <td>0.044971</td>\n",
       "      <td>0.0</td>\n",
       "      <td>22.100890</td>\n",
       "      <td>0.0</td>\n",
       "      <td>0.0</td>\n",
       "      <td>0.0</td>\n",
       "      <td>1.362729</td>\n",
       "    </tr>\n",
       "  </tbody>\n",
       "</table>\n",
       "</div>"
      ],
      "text/plain": [
       "   Entity Code  Year  Coal_Consumption_EJ  Gas_Consumption_EJ  \\\n",
       "0  Africa  NaN  1965             1.164586            0.034358   \n",
       "1  Africa  NaN  1966             1.163240            0.038412   \n",
       "2  Africa  NaN  1967             1.189050            0.037964   \n",
       "3  Africa  NaN  1968             1.236646            0.038480   \n",
       "4  Africa  NaN  1969             1.247915            0.044971   \n",
       "\n",
       "   Geo_Biomass_Other_TWh  Hydro_Generation_TWh  Nuclear_Generation_TWh  \\\n",
       "0                    0.0             13.905635                     0.0   \n",
       "1                    0.0             15.510004                     0.0   \n",
       "2                    0.0             16.190636                     0.0   \n",
       "3                    0.0             18.938341                     0.0   \n",
       "4                    0.0             22.100890                     0.0   \n",
       "\n",
       "   Solar_Generation_TWh  Wind_Generation_TWh  Oil_Consumption_EJ  \n",
       "0                   0.0                  0.0            1.173241  \n",
       "1                   0.0                  0.0            1.284154  \n",
       "2                   0.0                  0.0            1.273799  \n",
       "3                   0.0                  0.0            1.344219  \n",
       "4                   0.0                  0.0            1.362729  "
      ]
     },
     "execution_count": 7,
     "metadata": {},
     "output_type": "execute_result"
    }
   ],
   "source": [
    "df.head()"
   ]
  },
  {
   "cell_type": "code",
   "execution_count": 23,
   "metadata": {},
   "outputs": [
    {
     "data": {
      "text/plain": [
       "5190"
      ]
     },
     "execution_count": 23,
     "metadata": {},
     "output_type": "execute_result"
    }
   ],
   "source": [
    "df.Code.size"
   ]
  },
  {
   "cell_type": "code",
   "execution_count": 14,
   "metadata": {},
   "outputs": [
    {
     "data": {
      "text/plain": [
       "int"
      ]
     },
     "execution_count": 14,
     "metadata": {},
     "output_type": "execute_result"
    }
   ],
   "source": [
    "df = pd.read_csv('Fuentes_Consumo_Energia.csv')\n",
    "df.drop(['Code'],axis=1, inplace=True)\n",
    "df.head()\n",
    "type(len(df.columns))"
   ]
  },
  {
   "cell_type": "code",
   "execution_count": 132,
   "metadata": {},
   "outputs": [
    {
     "name": "stdout",
     "output_type": "stream",
     "text": [
      "5190\n",
      "4139\n"
     ]
    },
    {
     "data": {
      "text/html": [
       "<div>\n",
       "<style scoped>\n",
       "    .dataframe tbody tr th:only-of-type {\n",
       "        vertical-align: middle;\n",
       "    }\n",
       "\n",
       "    .dataframe tbody tr th {\n",
       "        vertical-align: top;\n",
       "    }\n",
       "\n",
       "    .dataframe thead th {\n",
       "        text-align: right;\n",
       "    }\n",
       "</style>\n",
       "<table border=\"1\" class=\"dataframe\">\n",
       "  <thead>\n",
       "    <tr style=\"text-align: right;\">\n",
       "      <th></th>\n",
       "      <th>Entity</th>\n",
       "      <th>Code</th>\n",
       "      <th>Year</th>\n",
       "      <th>Coal_Consumption_EJ</th>\n",
       "      <th>Gas_Consumption_EJ</th>\n",
       "      <th>Geo_Biomass_Other_TWh</th>\n",
       "      <th>Hydro_Generation_TWh</th>\n",
       "      <th>Nuclear_Generation_TWh</th>\n",
       "      <th>Solar_Generation_TWh</th>\n",
       "      <th>Wind_Generation_TWh</th>\n",
       "      <th>Oil_Consumption_EJ</th>\n",
       "    </tr>\n",
       "  </thead>\n",
       "  <tbody>\n",
       "    <tr>\n",
       "      <th>55</th>\n",
       "      <td>Algeria</td>\n",
       "      <td>DZA</td>\n",
       "      <td>1965</td>\n",
       "      <td>0.002931</td>\n",
       "      <td>0.026750</td>\n",
       "      <td>0.0</td>\n",
       "      <td>0.400</td>\n",
       "      <td>0.0</td>\n",
       "      <td>0.0</td>\n",
       "      <td>0.0</td>\n",
       "      <td>0.055459</td>\n",
       "    </tr>\n",
       "    <tr>\n",
       "      <th>56</th>\n",
       "      <td>Algeria</td>\n",
       "      <td>DZA</td>\n",
       "      <td>1966</td>\n",
       "      <td>0.002847</td>\n",
       "      <td>0.027789</td>\n",
       "      <td>0.0</td>\n",
       "      <td>0.355</td>\n",
       "      <td>0.0</td>\n",
       "      <td>0.0</td>\n",
       "      <td>0.0</td>\n",
       "      <td>0.072982</td>\n",
       "    </tr>\n",
       "    <tr>\n",
       "      <th>57</th>\n",
       "      <td>Algeria</td>\n",
       "      <td>DZA</td>\n",
       "      <td>1967</td>\n",
       "      <td>0.002177</td>\n",
       "      <td>0.026958</td>\n",
       "      <td>0.0</td>\n",
       "      <td>0.410</td>\n",
       "      <td>0.0</td>\n",
       "      <td>0.0</td>\n",
       "      <td>0.0</td>\n",
       "      <td>0.068191</td>\n",
       "    </tr>\n",
       "    <tr>\n",
       "      <th>58</th>\n",
       "      <td>Algeria</td>\n",
       "      <td>DZA</td>\n",
       "      <td>1968</td>\n",
       "      <td>0.002303</td>\n",
       "      <td>0.028344</td>\n",
       "      <td>0.0</td>\n",
       "      <td>0.563</td>\n",
       "      <td>0.0</td>\n",
       "      <td>0.0</td>\n",
       "      <td>0.0</td>\n",
       "      <td>0.072602</td>\n",
       "    </tr>\n",
       "    <tr>\n",
       "      <th>59</th>\n",
       "      <td>Algeria</td>\n",
       "      <td>DZA</td>\n",
       "      <td>1969</td>\n",
       "      <td>0.002931</td>\n",
       "      <td>0.037266</td>\n",
       "      <td>0.0</td>\n",
       "      <td>0.361</td>\n",
       "      <td>0.0</td>\n",
       "      <td>0.0</td>\n",
       "      <td>0.0</td>\n",
       "      <td>0.076701</td>\n",
       "    </tr>\n",
       "  </tbody>\n",
       "</table>\n",
       "</div>"
      ],
      "text/plain": [
       "     Entity Code  Year  Coal_Consumption_EJ  Gas_Consumption_EJ  \\\n",
       "55  Algeria  DZA  1965             0.002931            0.026750   \n",
       "56  Algeria  DZA  1966             0.002847            0.027789   \n",
       "57  Algeria  DZA  1967             0.002177            0.026958   \n",
       "58  Algeria  DZA  1968             0.002303            0.028344   \n",
       "59  Algeria  DZA  1969             0.002931            0.037266   \n",
       "\n",
       "    Geo_Biomass_Other_TWh  Hydro_Generation_TWh  Nuclear_Generation_TWh  \\\n",
       "55                    0.0                 0.400                     0.0   \n",
       "56                    0.0                 0.355                     0.0   \n",
       "57                    0.0                 0.410                     0.0   \n",
       "58                    0.0                 0.563                     0.0   \n",
       "59                    0.0                 0.361                     0.0   \n",
       "\n",
       "    Solar_Generation_TWh  Wind_Generation_TWh  Oil_Consumption_EJ  \n",
       "55                   0.0                  0.0            0.055459  \n",
       "56                   0.0                  0.0            0.072982  \n",
       "57                   0.0                  0.0            0.068191  \n",
       "58                   0.0                  0.0            0.072602  \n",
       "59                   0.0                  0.0            0.076701  "
      ]
     },
     "execution_count": 132,
     "metadata": {},
     "output_type": "execute_result"
    }
   ],
   "source": [
    "df = pd.read_csv('Fuentes_Consumo_Energia.csv')\n",
    "print(len(df.Code))\n",
    "df = pd.read_csv('Fuentes_Consumo_Energia.csv').dropna(axis=0)\n",
    "print(len(df.Code))\n",
    "df.head()"
   ]
  },
  {
   "cell_type": "code",
   "execution_count": 157,
   "metadata": {},
   "outputs": [
    {
     "data": {
      "text/plain": [
       "527.71"
      ]
     },
     "execution_count": 157,
     "metadata": {},
     "output_type": "execute_result"
    }
   ],
   "source": [
    "#####4 147,237.11\n",
    "'''\n",
    "Debes utilizar Pandas para ingestar en un objeto Dataframe el contenido del archivo provisto \n",
    "\"Fuentes_Consumo_Energia.csv\".\n",
    "El ExaJulio es una unidad diferentes al TWh, es decir, no tiene sentido sumarlos o \n",
    "buscar proporciones entre ellos, la fórmula de conversión es:\n",
    "277.778 Teravatios/Hora (TWh) = 1 Exajulio\n",
    "Los campos terminados en \"_EJ\" corresponden a mediciones en Exajulios, \n",
    "y los terminados en \"_TWh\" corresponden a Teravatios/Hora.\n",
    "La consigna es crear un nuevo campo, que se denomine \"Consumo_Total\" \n",
    "y que guarde la sumatoria de todos los consumos expresados en Exajulios (convirtiendo a\n",
    "esta medida los que están en Teravatios/Hora)\n",
    "Esta función debe informar el consumo total para la entidad 'World' y año '2019', \n",
    "redondeado a 2 decimales, retornando ese valor en un dato de tipo float.\n",
    "'''\n",
    "   \n",
    "df = pd.read_csv('Fuentes_Consumo_Energia.csv')\n",
    "indEJ = []\n",
    "indTWh = []\n",
    "for i, col in enumerate(df.columns):\n",
    "    if '_EJ' in col:\n",
    "        indEJ.append(col)\n",
    "    elif '_TWh' in col:\n",
    "        indTWh.append(col)\n",
    "\n",
    "df['Consumo_Total'] = df[indEJ].sum(axis = 1) + df[indTWh].sum(axis = 1)/277.778\n",
    "valor = df[(df['Entity'] == 'World') & (df['Year'] == 2019)]\n",
    "round(float(valor['Consumo_Total'].max())   ,2)\n"
   ]
  },
  {
   "cell_type": "code",
   "execution_count": 137,
   "metadata": {},
   "outputs": [
    {
     "data": {
      "text/plain": [
       "2019"
      ]
     },
     "execution_count": 137,
     "metadata": {},
     "output_type": "execute_result"
    }
   ],
   "source": [
    "'''5\n",
    "Debes utilizar Pandas para ingestar en un objeto Dataframe el contenido del archivo provisto \n",
    "\"Fuentes_Consumo_Energia.csv\".\n",
    "Esta función debe informar el año de mayor generación de energía solar (Solar_Generation_TWh) \n",
    "para la entidad 'Europe' retornando ese valor en un dato de tipo entero.\n",
    "'''\n",
    "\n",
    "df = pd.read_csv('Fuentes_Consumo_Energia.csv')\n",
    "dfe = df[df['Entity'] == 'Europe']\n",
    "indice = dfe['Solar_Generation_TWh'].idxmax()\n",
    "dfe['Year'][indice]"
   ]
  },
  {
   "cell_type": "code",
   "execution_count": 84,
   "metadata": {},
   "outputs": [
    {
     "data": {
      "text/plain": [
       "2"
      ]
     },
     "execution_count": 84,
     "metadata": {},
     "output_type": "execute_result"
    }
   ],
   "source": [
    "n1 = np.array([[0,0,0],[1,1,1],[2,2,2]])\n",
    "n2 = np.array([[3,3],[4,4],[5,5]])\n",
    "\n",
    "n2.shape[1]"
   ]
  },
  {
   "cell_type": "code",
   "execution_count": 106,
   "metadata": {},
   "outputs": [
    {
     "data": {
      "text/plain": [
       "'Brazil'"
      ]
     },
     "execution_count": 106,
     "metadata": {},
     "output_type": "execute_result"
    }
   ],
   "source": [
    "##pregunta 7\n",
    "df = pd.read_csv('Fuentes_Consumo_Energia.csv')\n",
    "paises = ['Argentina','Brazil','Chile','Colombia','Ecuador','Mexico','Peru']\n",
    "indice = df[(df['Entity'].isin(paises)) & (df['Year'] == 2019)].Wind_Generation_TWh.idxmax()\n",
    "df['Entity'][indice]\n",
    "#df.idxmax()\n"
   ]
  },
  {
   "cell_type": "code",
   "execution_count": 111,
   "metadata": {},
   "outputs": [
    {
     "data": {
      "text/plain": [
       "100"
      ]
     },
     "execution_count": 111,
     "metadata": {},
     "output_type": "execute_result"
    }
   ],
   "source": [
    "df = pd.read_csv('Fuentes_Consumo_Energia.csv')\n",
    "lista = df.Entity.drop_duplicates()\n",
    "lista.size\n"
   ]
  },
  {
   "cell_type": "code",
   "execution_count": 125,
   "metadata": {},
   "outputs": [
    {
     "data": {
      "text/plain": [
       "21"
      ]
     },
     "execution_count": 125,
     "metadata": {},
     "output_type": "execute_result"
    }
   ],
   "source": [
    "'''\n",
    "    Esta función debe informar el promedio de consumo de carbón (Coal_Consumption_EJ) \n",
    "    en la entidad 'Europa' entre los años 1980 y 2000 (ambos inclusive), retornando ese valor en\n",
    "    un dato de tipo entero.\n",
    "'''\n",
    "#Tu código aca:\n",
    "\n",
    "df = pd.read_csv('Fuentes_Consumo_Energia.csv')\n",
    "cons_carb = df[(df.Entity == 'Europe') & (df.Year.isin(range(1980,2001)))].Coal_Consumption_EJ\n",
    "int(cons_carb.mean())\n"
   ]
  },
  {
   "cell_type": "code",
   "execution_count": 130,
   "metadata": {},
   "outputs": [
    {
     "name": "stdout",
     "output_type": "stream",
     "text": [
      "3\n"
     ]
    }
   ],
   "source": [
    "'''\n",
    "Esta función recibe como parámetro un objeto de la clase Lista() definida en el archivo Lista.py.\n",
    "Debe recorrer la lista y retornan la cantidad de nodos que posee. Utilizar el método de la clase\n",
    "Lista llamado getCabecera()\n",
    "Ejemplo:\n",
    "    lis = Lista()\n",
    "    lista.agregarElemento(1)\n",
    "    lista.agregarElemento(2)\n",
    "    lista.agregarElemento(3)\n",
    "    print(Ret_Pregunta10(lista))\n",
    "        3    -> Debe ser el valor devuelto por la función Ret_Pregunta10() en este ejemplo\n",
    "'''\n",
    "\n",
    "from Lista import *\n",
    "\n",
    "def Ret_Pregunta10(lista):\n",
    "    c = 0\n",
    "    \n",
    "    a = lista.getCabecera()\n",
    "    if a:\n",
    "        c = 1\n",
    "    while a.getSiguiente():\n",
    "        c += 1\n",
    "        a = a.getSiguiente()\n",
    "    \n",
    "    return c\n",
    "    \n",
    "\n",
    "lista = Lista()\n",
    "lista.agregarElemento(1)\n",
    "lista.agregarElemento(2)\n",
    "lista.agregarElemento(3)\n",
    "print(Ret_Pregunta10(lista))\n"
   ]
  }
 ],
 "metadata": {
  "kernelspec": {
   "display_name": "Python 3.10.1 64-bit",
   "language": "python",
   "name": "python3"
  },
  "language_info": {
   "codemirror_mode": {
    "name": "ipython",
    "version": 3
   },
   "file_extension": ".py",
   "mimetype": "text/x-python",
   "name": "python",
   "nbconvert_exporter": "python",
   "pygments_lexer": "ipython3",
   "version": "3.10.1"
  },
  "orig_nbformat": 4,
  "vscode": {
   "interpreter": {
    "hash": "7a00de2d03a2cdd800050a5fd9903e27ef0ab168083508fb826c5866b9462f56"
   }
  }
 },
 "nbformat": 4,
 "nbformat_minor": 2
}
