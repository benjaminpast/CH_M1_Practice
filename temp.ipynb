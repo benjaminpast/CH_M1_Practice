{
 "cells": [
  {
   "cell_type": "code",
   "execution_count": 1,
   "metadata": {},
   "outputs": [],
   "source": [
    "import pandas as pd\n",
    "import numpy  as np"
   ]
  },
  {
   "cell_type": "code",
   "execution_count": 2,
   "metadata": {},
   "outputs": [
    {
     "data": {
      "text/html": [
       "<div>\n",
       "<style scoped>\n",
       "    .dataframe tbody tr th:only-of-type {\n",
       "        vertical-align: middle;\n",
       "    }\n",
       "\n",
       "    .dataframe tbody tr th {\n",
       "        vertical-align: top;\n",
       "    }\n",
       "\n",
       "    .dataframe thead th {\n",
       "        text-align: right;\n",
       "    }\n",
       "</style>\n",
       "<table border=\"1\" class=\"dataframe\">\n",
       "  <thead>\n",
       "    <tr style=\"text-align: right;\">\n",
       "      <th></th>\n",
       "      <th>Entity</th>\n",
       "      <th>Code</th>\n",
       "      <th>Year</th>\n",
       "      <th>Coal_Consumption_EJ</th>\n",
       "      <th>Gas_Consumption_EJ</th>\n",
       "      <th>Geo_Biomass_Other_TWh</th>\n",
       "      <th>Hydro_Generation_TWh</th>\n",
       "      <th>Nuclear_Generation_TWh</th>\n",
       "      <th>Solar_Generation_TWh</th>\n",
       "      <th>Wind_Generation_TWh</th>\n",
       "      <th>Oil_Consumption_EJ</th>\n",
       "    </tr>\n",
       "  </thead>\n",
       "  <tbody>\n",
       "    <tr>\n",
       "      <th>0</th>\n",
       "      <td>Africa</td>\n",
       "      <td>NaN</td>\n",
       "      <td>1965</td>\n",
       "      <td>1.164586</td>\n",
       "      <td>0.034358</td>\n",
       "      <td>0.000000</td>\n",
       "      <td>13.905635</td>\n",
       "      <td>0.000000</td>\n",
       "      <td>0.000000</td>\n",
       "      <td>0.000000</td>\n",
       "      <td>1.173241</td>\n",
       "    </tr>\n",
       "    <tr>\n",
       "      <th>1</th>\n",
       "      <td>Africa</td>\n",
       "      <td>NaN</td>\n",
       "      <td>1966</td>\n",
       "      <td>1.163240</td>\n",
       "      <td>0.038412</td>\n",
       "      <td>0.000000</td>\n",
       "      <td>15.510004</td>\n",
       "      <td>0.000000</td>\n",
       "      <td>0.000000</td>\n",
       "      <td>0.000000</td>\n",
       "      <td>1.284154</td>\n",
       "    </tr>\n",
       "    <tr>\n",
       "      <th>2</th>\n",
       "      <td>Africa</td>\n",
       "      <td>NaN</td>\n",
       "      <td>1967</td>\n",
       "      <td>1.189050</td>\n",
       "      <td>0.037964</td>\n",
       "      <td>0.000000</td>\n",
       "      <td>16.190636</td>\n",
       "      <td>0.000000</td>\n",
       "      <td>0.000000</td>\n",
       "      <td>0.000000</td>\n",
       "      <td>1.273799</td>\n",
       "    </tr>\n",
       "    <tr>\n",
       "      <th>3</th>\n",
       "      <td>Africa</td>\n",
       "      <td>NaN</td>\n",
       "      <td>1968</td>\n",
       "      <td>1.236646</td>\n",
       "      <td>0.038480</td>\n",
       "      <td>0.000000</td>\n",
       "      <td>18.938341</td>\n",
       "      <td>0.000000</td>\n",
       "      <td>0.000000</td>\n",
       "      <td>0.000000</td>\n",
       "      <td>1.344219</td>\n",
       "    </tr>\n",
       "    <tr>\n",
       "      <th>4</th>\n",
       "      <td>Africa</td>\n",
       "      <td>NaN</td>\n",
       "      <td>1969</td>\n",
       "      <td>1.247915</td>\n",
       "      <td>0.044971</td>\n",
       "      <td>0.000000</td>\n",
       "      <td>22.100890</td>\n",
       "      <td>0.000000</td>\n",
       "      <td>0.000000</td>\n",
       "      <td>0.000000</td>\n",
       "      <td>1.362729</td>\n",
       "    </tr>\n",
       "    <tr>\n",
       "      <th>...</th>\n",
       "      <td>...</td>\n",
       "      <td>...</td>\n",
       "      <td>...</td>\n",
       "      <td>...</td>\n",
       "      <td>...</td>\n",
       "      <td>...</td>\n",
       "      <td>...</td>\n",
       "      <td>...</td>\n",
       "      <td>...</td>\n",
       "      <td>...</td>\n",
       "      <td>...</td>\n",
       "    </tr>\n",
       "    <tr>\n",
       "      <th>5185</th>\n",
       "      <td>World</td>\n",
       "      <td>OWID_WRL</td>\n",
       "      <td>2015</td>\n",
       "      <td>157.838896</td>\n",
       "      <td>125.208335</td>\n",
       "      <td>538.277477</td>\n",
       "      <td>3884.619692</td>\n",
       "      <td>2575.763561</td>\n",
       "      <td>256.838045</td>\n",
       "      <td>831.567439</td>\n",
       "      <td>183.210968</td>\n",
       "    </tr>\n",
       "    <tr>\n",
       "      <th>5186</th>\n",
       "      <td>World</td>\n",
       "      <td>OWID_WRL</td>\n",
       "      <td>2016</td>\n",
       "      <td>155.504177</td>\n",
       "      <td>128.124027</td>\n",
       "      <td>547.865908</td>\n",
       "      <td>4012.947981</td>\n",
       "      <td>2614.905286</td>\n",
       "      <td>328.237428</td>\n",
       "      <td>963.774036</td>\n",
       "      <td>186.912413</td>\n",
       "    </tr>\n",
       "    <tr>\n",
       "      <th>5187</th>\n",
       "      <td>World</td>\n",
       "      <td>OWID_WRL</td>\n",
       "      <td>2017</td>\n",
       "      <td>156.094106</td>\n",
       "      <td>131.708206</td>\n",
       "      <td>582.893132</td>\n",
       "      <td>4065.869592</td>\n",
       "      <td>2638.554157</td>\n",
       "      <td>446.946764</td>\n",
       "      <td>1140.971268</td>\n",
       "      <td>189.242920</td>\n",
       "    </tr>\n",
       "    <tr>\n",
       "      <th>5188</th>\n",
       "      <td>World</td>\n",
       "      <td>OWID_WRL</td>\n",
       "      <td>2018</td>\n",
       "      <td>158.793935</td>\n",
       "      <td>138.659832</td>\n",
       "      <td>615.038237</td>\n",
       "      <td>4171.404951</td>\n",
       "      <td>2700.373917</td>\n",
       "      <td>582.754345</td>\n",
       "      <td>1270.164880</td>\n",
       "      <td>191.451896</td>\n",
       "    </tr>\n",
       "    <tr>\n",
       "      <th>5189</th>\n",
       "      <td>World</td>\n",
       "      <td>OWID_WRL</td>\n",
       "      <td>2019</td>\n",
       "      <td>157.857047</td>\n",
       "      <td>141.452770</td>\n",
       "      <td>651.811211</td>\n",
       "      <td>4222.214992</td>\n",
       "      <td>2795.961529</td>\n",
       "      <td>724.086506</td>\n",
       "      <td>1429.619982</td>\n",
       "      <td>193.031574</td>\n",
       "    </tr>\n",
       "  </tbody>\n",
       "</table>\n",
       "<p>5190 rows × 11 columns</p>\n",
       "</div>"
      ],
      "text/plain": [
       "      Entity      Code  Year  Coal_Consumption_EJ  Gas_Consumption_EJ  \\\n",
       "0     Africa       NaN  1965             1.164586            0.034358   \n",
       "1     Africa       NaN  1966             1.163240            0.038412   \n",
       "2     Africa       NaN  1967             1.189050            0.037964   \n",
       "3     Africa       NaN  1968             1.236646            0.038480   \n",
       "4     Africa       NaN  1969             1.247915            0.044971   \n",
       "...      ...       ...   ...                  ...                 ...   \n",
       "5185   World  OWID_WRL  2015           157.838896          125.208335   \n",
       "5186   World  OWID_WRL  2016           155.504177          128.124027   \n",
       "5187   World  OWID_WRL  2017           156.094106          131.708206   \n",
       "5188   World  OWID_WRL  2018           158.793935          138.659832   \n",
       "5189   World  OWID_WRL  2019           157.857047          141.452770   \n",
       "\n",
       "      Geo_Biomass_Other_TWh  Hydro_Generation_TWh  Nuclear_Generation_TWh  \\\n",
       "0                  0.000000             13.905635                0.000000   \n",
       "1                  0.000000             15.510004                0.000000   \n",
       "2                  0.000000             16.190636                0.000000   \n",
       "3                  0.000000             18.938341                0.000000   \n",
       "4                  0.000000             22.100890                0.000000   \n",
       "...                     ...                   ...                     ...   \n",
       "5185             538.277477           3884.619692             2575.763561   \n",
       "5186             547.865908           4012.947981             2614.905286   \n",
       "5187             582.893132           4065.869592             2638.554157   \n",
       "5188             615.038237           4171.404951             2700.373917   \n",
       "5189             651.811211           4222.214992             2795.961529   \n",
       "\n",
       "      Solar_Generation_TWh  Wind_Generation_TWh  Oil_Consumption_EJ  \n",
       "0                 0.000000             0.000000            1.173241  \n",
       "1                 0.000000             0.000000            1.284154  \n",
       "2                 0.000000             0.000000            1.273799  \n",
       "3                 0.000000             0.000000            1.344219  \n",
       "4                 0.000000             0.000000            1.362729  \n",
       "...                    ...                  ...                 ...  \n",
       "5185            256.838045           831.567439          183.210968  \n",
       "5186            328.237428           963.774036          186.912413  \n",
       "5187            446.946764          1140.971268          189.242920  \n",
       "5188            582.754345          1270.164880          191.451896  \n",
       "5189            724.086506          1429.619982          193.031574  \n",
       "\n",
       "[5190 rows x 11 columns]"
      ]
     },
     "execution_count": 2,
     "metadata": {},
     "output_type": "execute_result"
    }
   ],
   "source": [
    "df = pd.read_csv('Fuentes_Consumo_Energia.csv')\n",
    "df"
   ]
  },
  {
   "cell_type": "code",
   "execution_count": 3,
   "metadata": {},
   "outputs": [
    {
     "data": {
      "text/plain": [
       "5190"
      ]
     },
     "execution_count": 3,
     "metadata": {},
     "output_type": "execute_result"
    }
   ],
   "source": [
    "df.index.size"
   ]
  },
  {
   "cell_type": "code",
   "execution_count": 4,
   "metadata": {},
   "outputs": [
    {
     "data": {
      "text/plain": [
       "10"
      ]
     },
     "execution_count": 4,
     "metadata": {},
     "output_type": "execute_result"
    }
   ],
   "source": [
    "df_2 = df.copy()\n",
    "del df_2['Code']\n",
    "df_2.columns.size"
   ]
  },
  {
   "cell_type": "code",
   "execution_count": 5,
   "metadata": {},
   "outputs": [
    {
     "data": {
      "text/plain": [
       "4139"
      ]
     },
     "execution_count": 5,
     "metadata": {},
     "output_type": "execute_result"
    }
   ],
   "source": [
    "df_3 = df.copy()\n",
    "drop = df_3.dropna()\n",
    "drop.index.size"
   ]
  },
  {
   "cell_type": "code",
   "execution_count": 6,
   "metadata": {},
   "outputs": [
    {
     "data": {
      "text/html": [
       "<div>\n",
       "<style scoped>\n",
       "    .dataframe tbody tr th:only-of-type {\n",
       "        vertical-align: middle;\n",
       "    }\n",
       "\n",
       "    .dataframe tbody tr th {\n",
       "        vertical-align: top;\n",
       "    }\n",
       "\n",
       "    .dataframe thead th {\n",
       "        text-align: right;\n",
       "    }\n",
       "</style>\n",
       "<table border=\"1\" class=\"dataframe\">\n",
       "  <thead>\n",
       "    <tr style=\"text-align: right;\">\n",
       "      <th></th>\n",
       "      <th>Entity</th>\n",
       "      <th>Code</th>\n",
       "      <th>Year</th>\n",
       "      <th>Coal_Consumption_EJ</th>\n",
       "      <th>Gas_Consumption_EJ</th>\n",
       "      <th>Geo_Biomass_Other_TWh</th>\n",
       "      <th>Hydro_Generation_TWh</th>\n",
       "      <th>Nuclear_Generation_TWh</th>\n",
       "      <th>Solar_Generation_TWh</th>\n",
       "      <th>Wind_Generation_TWh</th>\n",
       "      <th>Oil_Consumption_EJ</th>\n",
       "    </tr>\n",
       "  </thead>\n",
       "  <tbody>\n",
       "    <tr>\n",
       "      <th>0</th>\n",
       "      <td>Africa</td>\n",
       "      <td>NaN</td>\n",
       "      <td>1965</td>\n",
       "      <td>1.164586</td>\n",
       "      <td>0.034358</td>\n",
       "      <td>0.000000</td>\n",
       "      <td>13.905635</td>\n",
       "      <td>0.000000</td>\n",
       "      <td>0.000000</td>\n",
       "      <td>0.000000</td>\n",
       "      <td>1.173241</td>\n",
       "    </tr>\n",
       "    <tr>\n",
       "      <th>1</th>\n",
       "      <td>Africa</td>\n",
       "      <td>NaN</td>\n",
       "      <td>1966</td>\n",
       "      <td>1.163240</td>\n",
       "      <td>0.038412</td>\n",
       "      <td>0.000000</td>\n",
       "      <td>15.510004</td>\n",
       "      <td>0.000000</td>\n",
       "      <td>0.000000</td>\n",
       "      <td>0.000000</td>\n",
       "      <td>1.284154</td>\n",
       "    </tr>\n",
       "    <tr>\n",
       "      <th>2</th>\n",
       "      <td>Africa</td>\n",
       "      <td>NaN</td>\n",
       "      <td>1967</td>\n",
       "      <td>1.189050</td>\n",
       "      <td>0.037964</td>\n",
       "      <td>0.000000</td>\n",
       "      <td>16.190636</td>\n",
       "      <td>0.000000</td>\n",
       "      <td>0.000000</td>\n",
       "      <td>0.000000</td>\n",
       "      <td>1.273799</td>\n",
       "    </tr>\n",
       "    <tr>\n",
       "      <th>3</th>\n",
       "      <td>Africa</td>\n",
       "      <td>NaN</td>\n",
       "      <td>1968</td>\n",
       "      <td>1.236646</td>\n",
       "      <td>0.038480</td>\n",
       "      <td>0.000000</td>\n",
       "      <td>18.938341</td>\n",
       "      <td>0.000000</td>\n",
       "      <td>0.000000</td>\n",
       "      <td>0.000000</td>\n",
       "      <td>1.344219</td>\n",
       "    </tr>\n",
       "    <tr>\n",
       "      <th>4</th>\n",
       "      <td>Africa</td>\n",
       "      <td>NaN</td>\n",
       "      <td>1969</td>\n",
       "      <td>1.247915</td>\n",
       "      <td>0.044971</td>\n",
       "      <td>0.000000</td>\n",
       "      <td>22.100890</td>\n",
       "      <td>0.000000</td>\n",
       "      <td>0.000000</td>\n",
       "      <td>0.000000</td>\n",
       "      <td>1.362729</td>\n",
       "    </tr>\n",
       "    <tr>\n",
       "      <th>...</th>\n",
       "      <td>...</td>\n",
       "      <td>...</td>\n",
       "      <td>...</td>\n",
       "      <td>...</td>\n",
       "      <td>...</td>\n",
       "      <td>...</td>\n",
       "      <td>...</td>\n",
       "      <td>...</td>\n",
       "      <td>...</td>\n",
       "      <td>...</td>\n",
       "      <td>...</td>\n",
       "    </tr>\n",
       "    <tr>\n",
       "      <th>5185</th>\n",
       "      <td>World</td>\n",
       "      <td>OWID_WRL</td>\n",
       "      <td>2015</td>\n",
       "      <td>157.838896</td>\n",
       "      <td>125.208335</td>\n",
       "      <td>538.277477</td>\n",
       "      <td>3884.619692</td>\n",
       "      <td>2575.763561</td>\n",
       "      <td>256.838045</td>\n",
       "      <td>831.567439</td>\n",
       "      <td>183.210968</td>\n",
       "    </tr>\n",
       "    <tr>\n",
       "      <th>5186</th>\n",
       "      <td>World</td>\n",
       "      <td>OWID_WRL</td>\n",
       "      <td>2016</td>\n",
       "      <td>155.504177</td>\n",
       "      <td>128.124027</td>\n",
       "      <td>547.865908</td>\n",
       "      <td>4012.947981</td>\n",
       "      <td>2614.905286</td>\n",
       "      <td>328.237428</td>\n",
       "      <td>963.774036</td>\n",
       "      <td>186.912413</td>\n",
       "    </tr>\n",
       "    <tr>\n",
       "      <th>5187</th>\n",
       "      <td>World</td>\n",
       "      <td>OWID_WRL</td>\n",
       "      <td>2017</td>\n",
       "      <td>156.094106</td>\n",
       "      <td>131.708206</td>\n",
       "      <td>582.893132</td>\n",
       "      <td>4065.869592</td>\n",
       "      <td>2638.554157</td>\n",
       "      <td>446.946764</td>\n",
       "      <td>1140.971268</td>\n",
       "      <td>189.242920</td>\n",
       "    </tr>\n",
       "    <tr>\n",
       "      <th>5188</th>\n",
       "      <td>World</td>\n",
       "      <td>OWID_WRL</td>\n",
       "      <td>2018</td>\n",
       "      <td>158.793935</td>\n",
       "      <td>138.659832</td>\n",
       "      <td>615.038237</td>\n",
       "      <td>4171.404951</td>\n",
       "      <td>2700.373917</td>\n",
       "      <td>582.754345</td>\n",
       "      <td>1270.164880</td>\n",
       "      <td>191.451896</td>\n",
       "    </tr>\n",
       "    <tr>\n",
       "      <th>5189</th>\n",
       "      <td>World</td>\n",
       "      <td>OWID_WRL</td>\n",
       "      <td>2019</td>\n",
       "      <td>157.857047</td>\n",
       "      <td>141.452770</td>\n",
       "      <td>651.811211</td>\n",
       "      <td>4222.214992</td>\n",
       "      <td>2795.961529</td>\n",
       "      <td>724.086506</td>\n",
       "      <td>1429.619982</td>\n",
       "      <td>193.031574</td>\n",
       "    </tr>\n",
       "  </tbody>\n",
       "</table>\n",
       "<p>5190 rows × 11 columns</p>\n",
       "</div>"
      ],
      "text/plain": [
       "      Entity      Code  Year  Coal_Consumption_EJ  Gas_Consumption_EJ  \\\n",
       "0     Africa       NaN  1965             1.164586            0.034358   \n",
       "1     Africa       NaN  1966             1.163240            0.038412   \n",
       "2     Africa       NaN  1967             1.189050            0.037964   \n",
       "3     Africa       NaN  1968             1.236646            0.038480   \n",
       "4     Africa       NaN  1969             1.247915            0.044971   \n",
       "...      ...       ...   ...                  ...                 ...   \n",
       "5185   World  OWID_WRL  2015           157.838896          125.208335   \n",
       "5186   World  OWID_WRL  2016           155.504177          128.124027   \n",
       "5187   World  OWID_WRL  2017           156.094106          131.708206   \n",
       "5188   World  OWID_WRL  2018           158.793935          138.659832   \n",
       "5189   World  OWID_WRL  2019           157.857047          141.452770   \n",
       "\n",
       "      Geo_Biomass_Other_TWh  Hydro_Generation_TWh  Nuclear_Generation_TWh  \\\n",
       "0                  0.000000             13.905635                0.000000   \n",
       "1                  0.000000             15.510004                0.000000   \n",
       "2                  0.000000             16.190636                0.000000   \n",
       "3                  0.000000             18.938341                0.000000   \n",
       "4                  0.000000             22.100890                0.000000   \n",
       "...                     ...                   ...                     ...   \n",
       "5185             538.277477           3884.619692             2575.763561   \n",
       "5186             547.865908           4012.947981             2614.905286   \n",
       "5187             582.893132           4065.869592             2638.554157   \n",
       "5188             615.038237           4171.404951             2700.373917   \n",
       "5189             651.811211           4222.214992             2795.961529   \n",
       "\n",
       "      Solar_Generation_TWh  Wind_Generation_TWh  Oil_Consumption_EJ  \n",
       "0                 0.000000             0.000000            1.173241  \n",
       "1                 0.000000             0.000000            1.284154  \n",
       "2                 0.000000             0.000000            1.273799  \n",
       "3                 0.000000             0.000000            1.344219  \n",
       "4                 0.000000             0.000000            1.362729  \n",
       "...                    ...                  ...                 ...  \n",
       "5185            256.838045           831.567439          183.210968  \n",
       "5186            328.237428           963.774036          186.912413  \n",
       "5187            446.946764          1140.971268          189.242920  \n",
       "5188            582.754345          1270.164880          191.451896  \n",
       "5189            724.086506          1429.619982          193.031574  \n",
       "\n",
       "[5190 rows x 11 columns]"
      ]
     },
     "execution_count": 6,
     "metadata": {},
     "output_type": "execute_result"
    }
   ],
   "source": [
    "df_4 = df.copy()\n",
    "df_4"
   ]
  },
  {
   "cell_type": "code",
   "execution_count": 21,
   "metadata": {},
   "outputs": [
    {
     "name": "stdout",
     "output_type": "stream",
     "text": [
      "527.71\n"
     ]
    }
   ],
   "source": [
    "col_tw  = ['Geo_Biomass_Other_TWh', 'Hydro_Generation_TWh', 'Nuclear_Generation_TWh', 'Solar_Generation_TWh', 'Wind_Generation_TWh']\n",
    "col_new = ['Geo_Biomass_Other_EJ', 'Hydro_Generation_EJ', 'Nuclear_Generation_EJ', 'Solar_Generation_EJ', 'Wind_Generation_EJ']\n",
    "\n",
    "\n",
    "del_4 = df_4.drop(col_tw, axis=1)\n",
    "tw_to_ej = df_4[col_tw].apply(lambda x: x/277.778)\n",
    "tw_to_ej.columns = col_new\n",
    "\n",
    "new_4 = pd.concat([del_4, tw_to_ej], axis=1)\n",
    "new_4['Consumo_Total'] = new_4[['Coal_Consumption_EJ', 'Gas_Consumption_EJ', 'Oil_Consumption_EJ'] + col_new].sum(axis=1)\n",
    "\n",
    "print(f\"{new_4[(new_4['Entity'] == 'World') & (new_4['Year'] == 2019)]['Consumo_Total'].values.__float__():.2f}\")\n"
   ]
  },
  {
   "cell_type": "code",
   "execution_count": 45,
   "metadata": {},
   "outputs": [
    {
     "data": {
      "text/plain": [
       "2019"
      ]
     },
     "execution_count": 45,
     "metadata": {},
     "output_type": "execute_result"
    }
   ],
   "source": [
    "df_5 = df.copy()\n",
    "\n",
    "df_5.iloc[[df['Solar_Generation_TWh'].idxmax()]]['Year'].values.__int__()\n"
   ]
  },
  {
   "cell_type": "code",
   "execution_count": 20,
   "metadata": {},
   "outputs": [
    {
     "data": {
      "text/plain": [
       "False"
      ]
     },
     "execution_count": 20,
     "metadata": {},
     "output_type": "execute_result"
    }
   ],
   "source": [
    "n1 = np.array([[0,0,0],[1,1,1],[2,2,2]])\n",
    "n2 = np.array([[3,3],[4,4],[5,5]])\n",
    "\n",
    "def IsMul(m1, m2):\n",
    "    try:\n",
    "        np.dot(m1,m2)\n",
    "        return True\n",
    "\n",
    "    except ValueError:\n",
    "        return False\n",
    "\n",
    "IsMul(n2, n1)\n",
    "\n"
   ]
  },
  {
   "cell_type": "code",
   "execution_count": 10,
   "metadata": {},
   "outputs": [
    {
     "data": {
      "text/plain": [
       "'Brazil'"
      ]
     },
     "execution_count": 10,
     "metadata": {},
     "output_type": "execute_result"
    }
   ],
   "source": [
    "df_7 = df.copy()\n",
    "countries = ['Argentina', 'Brazil', 'Chile', 'Colombia', 'Ecuador', 'Mexico', 'Peru']\n",
    "\n",
    "df_countries = df_7[df_7.Entity.isin(countries)]\n",
    "i = df_countries.Wind_Generation_TWh.idxmax()\n",
    "\n",
    "df_7.iloc[i]['Entity']"
   ]
  },
  {
   "cell_type": "code",
   "execution_count": 46,
   "metadata": {},
   "outputs": [
    {
     "data": {
      "text/plain": [
       "100"
      ]
     },
     "execution_count": 46,
     "metadata": {},
     "output_type": "execute_result"
    }
   ],
   "source": [
    "df_8 = df.copy()\n",
    "\n",
    "len(df_8['Entity'].drop_duplicates())"
   ]
  },
  {
   "cell_type": "code",
   "execution_count": 47,
   "metadata": {},
   "outputs": [
    {
     "data": {
      "text/plain": [
       "21.15"
      ]
     },
     "execution_count": 47,
     "metadata": {},
     "output_type": "execute_result"
    }
   ],
   "source": [
    "df_9 = df.copy()\n",
    "\n",
    "df_filter = df_9[(df_9['Entity'] == 'Europe') & (df_9['Year'] <= 2000) & (df_9['Year'] >= 1980)]\n",
    "float(df_filter.Coal_Consumption_EJ.mean().__format__('.2f'))\n"
   ]
  },
  {
   "cell_type": "code",
   "execution_count": 48,
   "metadata": {},
   "outputs": [
    {
     "data": {
      "text/plain": [
       "4"
      ]
     },
     "execution_count": 48,
     "metadata": {},
     "output_type": "execute_result"
    }
   ],
   "source": [
    "from Lista import Lista \n",
    "\n",
    "lis = Lista()\n",
    "\n",
    "lis.agregarElemento(10)\n",
    "lis.agregarElemento(40)\n",
    "lis.agregarElemento(30)\n",
    "lis.agregarElemento(20)\n",
    "\n",
    "\n",
    "def MapNodes(lis):\n",
    "    n = lis.getCabecera()\n",
    "    c = 0\n",
    "\n",
    "    while n: n = n.getSiguiente(); c += 1\n",
    "    return c\n",
    "\n",
    "\n",
    "MapNodes(lis)"
   ]
  }
 ],
 "metadata": {
  "interpreter": {
   "hash": "e7370f93d1d0cde622a1f8e1c04877d8463912d04d973331ad4851f04de6915a"
  },
  "kernelspec": {
   "display_name": "Python 3.10.4 64-bit",
   "language": "python",
   "name": "python3"
  },
  "language_info": {
   "codemirror_mode": {
    "name": "ipython",
    "version": 3
   },
   "file_extension": ".py",
   "mimetype": "text/x-python",
   "name": "python",
   "nbconvert_exporter": "python",
   "pygments_lexer": "ipython3",
   "version": "3.10.4"
  },
  "orig_nbformat": 4
 },
 "nbformat": 4,
 "nbformat_minor": 2
}
